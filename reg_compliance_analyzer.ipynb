{
 "cells": [
  {
   "cell_type": "markdown",
   "metadata": {},
   "source": [
    "# Regulatory Compliance Analyzer using FalkorDB's GraphRAG SDK"
   ]
  },
  {
   "cell_type": "code",
   "execution_count": 56,
   "metadata": {},
   "outputs": [],
   "source": [
    "# Import necessary libraries\n",
    "import json\n",
    "from graphrag_sdk.source import URL, JSONL\n",
    "from graphrag_sdk import KnowledgeGraph, Ontology\n",
    "from graphrag_sdk.orchestrator import Orchestrator\n",
    "from graphrag_sdk.agents.kg_agent import KGAgent\n",
    "from graphrag_sdk.models.litellm import LiteModel\n",
    "from graphrag_sdk.model_config import KnowledgeGraphModelConfig"
   ]
  },
  {
   "cell_type": "markdown",
   "metadata": {},
   "source": [
    "## Define data sources for regulatory compliance"
   ]
  },
  {
   "cell_type": "code",
   "execution_count": 89,
   "metadata": {},
   "outputs": [],
   "source": [
    "gdpr_sources = [\n",
    "    URL(\"https://ec.europa.eu/info/law/law-topic/data-protection_en\") \n",
    "]\n",
    "\n",
    "nist_sources = [\n",
    "    URL(\"https://www.fortinet.com/resources/cyberglossary/nist-compliance\")\n",
    "]\n",
    "\n",
    "soc2_sources = [\n",
    "    URL(\"https://www.vanta.com/collection/soc-2/soc-2-compliance-requirements\")\n",
    "]"
   ]
  },
  {
   "cell_type": "markdown",
   "metadata": {},
   "source": [
    "## Initialize the model"
   ]
  },
  {
   "cell_type": "code",
   "execution_count": 77,
   "metadata": {},
   "outputs": [],
   "source": [
    "model = LiteModel(model_name=\"gemini/gemini-2.0-flash-exp\")"
   ]
  },
  {
   "cell_type": "markdown",
   "metadata": {},
   "source": [
    "## Create ontologies from sources"
   ]
  },
  {
   "cell_type": "code",
   "execution_count": 59,
   "metadata": {},
   "outputs": [],
   "source": [
    "# Function to create an ontology from sources\n",
    "def create_ontology(sources, ontology_name):\n",
    "    ontology = Ontology.from_sources(\n",
    "        sources=sources,\n",
    "        model=model,\n",
    "    )\n",
    "    with open(f\"{ontology_name}.json\", \"w\") as f:\n",
    "        json.dump(ontology.to_json(), f)\n",
    "    return ontology"
   ]
  },
  {
   "cell_type": "code",
   "execution_count": null,
   "metadata": {},
   "outputs": [
    {
     "name": "stdout",
     "output_type": "stream",
     "text": [
      "GDPR Ontology: Entities:\n",
      "\f- (:EuropeanCommission {type: \"string*\", name: \"string!*\"})\n",
      "- (:DataProtection {description: \"string!*\"})\n",
      "- (:EULaw {description: \"string!*\"})\n",
      "- (:GDPR {full_name: \"string!*\", short_name: \"string\"})\n",
      "- (:LED {full_name: \"string!*\", short_name: \"string\"})\n",
      "- (:EUDPR {full_name: \"string!*\", short_name: \"string\"})\n",
      "- (:ThirdCountry {name: \"string!*\"})\n",
      "- (:SCC {full_name: \"string!*\", short_name: \"string\"})\n",
      "- (:BCR {full_name: \"string!*\", short_name: \"string\"})\n",
      "- (:NationalDataProtectionAuthority {country: \"string!*\"})\n",
      "- (:TimelineEvent {date: \"string*\", description: \"string!*\"})\n",
      "- (:Report {topic: \"string*\", date: \"string*\"})\n",
      "- (:Communication {title: \"string!*\", date: \"string*\"})\n",
      "- (:EuropeanParliament {type: \"string*\", name: \"string!*\"})\n",
      "- (:Council {type: \"string*\", name: \"string!*\"})\n",
      "- (:MemberState {name: \"string!*\"})\n",
      "- (:SmallAndMediumSizedEnterprise {abbreviation: \"string!*\"})\n",
      "- (:EuLaw {name: \"string!*\"})\n",
      "- (:Gdpr {full_name: \"string!*\", short_name: \"string\"})\n",
      "- (:Led {full_name: \"string!*\", short_name: \"string\"})\n",
      "- (:Eudpr {full_name: \"string!*\", short_name: \"string\"})\n",
      "- (:Scc {full_name: \"string!*\", short_name: \"string\"})\n",
      "- (:Bcr {full_name: \"string!*\", short_name: \"string\"})\n",
      "- (:DirectorateGeneralForCommunication {name: \"string!*\"})\n",
      "\n",
      "Edges:\n",
      "\f- (:DataProtection)-[:IS_PART_OF {}]->(:EULaw)\n",
      "- (:GDPR)-[:REGULATES {}]->(:DataProtection)\n",
      "- (:DataProtection)-[:TRANSFERS_TO {safeguards: \"string\"}]->(:ThirdCountry)\n",
      "- (:ThirdCountry)-[:USES {}]->(:SCC)\n",
      "- (:NationalDataProtectionAuthority)-[:FUNDED_BY {}]->(:EuropeanCommission)\n",
      "- (:EuropeanCommission)-[:PUBLISHED {}]->(:Report)\n",
      "- (:EuropeanCommission)-[:PROPOSES {}]->(:EUDPR)\n",
      "- (:GDPR)-[:ADOPTED_BY {}]->(:EuropeanParliament)\n",
      "- (:LED)-[:IMPLEMENTED_BY {}]->(:MemberState)\n",
      "- (:GDPR)-[:TARGETS {}]->(:SmallAndMediumSizedEnterprise)\n",
      "- (:EuropeanCommission)-[:PRESENTS {}]->(:Communication)\n",
      "- (:DirectorateGeneralForCommunication)-[:MANAGES {}]->(:EuropeanCommission)\n",
      "- (:DirectorateGeneralForCommunication)-[:IS_A {}]->(:EuropeanCommission)\n",
      "- (:TimelineEvent)-[:OCCURRED_IN {}]->(:GDPR)\n",
      "- (:DataProtection)-[:PART_OF {}]->(:EuLaw)\n"
     ]
    }
   ],
   "source": [
    "# Create ontologies for GDPR, NIST, and SOC 2\n",
    "gdpr_ontology = create_ontology(gdpr_sources, \"gdpr_ontology\")\n",
    "print(\"GDPR Ontology:\", gdpr_ontology)"
   ]
  },
  {
   "cell_type": "code",
   "execution_count": 80,
   "metadata": {},
   "outputs": [
    {
     "name": "stdout",
     "output_type": "stream",
     "text": [
      "NIST Ontology: Entities:\n",
      "\f- (:Nist {name: \"string!*\", description: \"string\"})\n",
      "- (:Guideline {name: \"string!*\", description: \"string\"})\n",
      "- (:Standard {name: \"string!*\", description: \"string\"})\n",
      "- (:Organization {name: \"string!*\", description: \"string\"})\n",
      "- (:Act {name: \"string!*\", description: \"string\"})\n",
      "- (:Tool {name: \"string!*\", description: \"string\"})\n",
      "- (:System {name: \"string!*\", description: \"string\"})\n",
      "- (:Control {name: \"string!*\", description: \"string\"})\n",
      "- (:Framework {name: \"string!*\", description: \"string\"})\n",
      "- (:Team {name: \"string!*\"})\n",
      "- (:Data {name: \"string!*\"})\n",
      "- (:U_s_government {name: \"string!*\"})\n",
      "- (:Fortinet {name: \"string!*\"})\n",
      "- (:Vulnerability {name: \"string!*\"})\n",
      "- (:Threat {name: \"string!*\"})\n",
      "- (:It_ot {name: \"string!*\"})\n",
      "\n",
      "Edges:\n",
      "\f- (:Organization)-[:COMPLIES_WITH {}]->(:Nist)\n",
      "- (:Nist)-[:GOVERNS {}]->(:Guideline)\n",
      "- (:Team)-[:USES {}]->(:Tool)\n",
      "- (:Nist)-[:PROTECTS {}]->(:Data)\n",
      "- (:Nist)-[:ENSURES {}]->(:Control)\n",
      "- (:Nist)-[:PART_OF {}]->(:U_s_government)\n",
      "- (:Fortinet)-[:PROVIDES {}]->(:Tool)\n",
      "- (:System)-[:MANAGES {}]->(:Control)\n",
      "- (:System)-[:IMPACTED_BY {}]->(:Vulnerability)\n",
      "- (:Tool)-[:MITIGATES {}]->(:Threat)\n",
      "- (:It_ot)-[:RELATED_TO {}]->(:Nist)\n"
     ]
    }
   ],
   "source": [
    "nist_ontology = create_ontology(nist_sources, \"nist_ontology\")\n",
    "print(\"NIST Ontology:\", nist_ontology)"
   ]
  },
  {
   "cell_type": "code",
   "execution_count": 81,
   "metadata": {},
   "outputs": [
    {
     "name": "stdout",
     "output_type": "stream",
     "text": [
      "SOC2 Ontology: Entities:\n",
      "\f- (:Product {name: \"string!*\", description: \"string\"})\n",
      "- (:Framework {name: \"string!*\", description: \"string\"})\n",
      "- (:Company {name: \"string!*\", description: \"string\"})\n",
      "- (:Service {name: \"string!*\", description: \"string\"})\n",
      "- (:Compliance {type: \"string!*\", name: \"string!*\", description: \"string\"})\n",
      "- (:Report {name: \"string!*\", type: \"string*\", report_type: \"string*\", description: \"string\"})\n",
      "- (:Criterion {name: \"string!*\", description: \"string\"})\n",
      "- (:Security {description: \"string\", level: \"string!*\"})\n",
      "- (:Automation {description: \"string\", name: \"string!*\"})\n",
      "- (:RiskManagement {description: \"string\", name: \"string!*\"})\n",
      "- (:Organization {description: \"string\", name: \"string!*\"})\n",
      "- (:Trust {description: \"string\", name: \"string!*\"})\n",
      "- (:Data {type: \"string\", data_type: \"string!*\", description: \"string\"})\n",
      "- (:Auditor {type: \"string\", name: \"string!*\", description: \"string\"})\n",
      "- (:Control {description: \"string\", name: \"string!*\"})\n",
      "- (:Integration {description: \"string\", name: \"string!*\"})\n",
      "- (:Vanta {description: \"string!*\", name: \"string!*\"})\n",
      "- (:Document {name: \"string!*\"})\n",
      "- (:Checklist {name: \"string!*\"})\n",
      "- (:Guideline {name: \"string!*\"})\n",
      "- (:Information {type: \"string!*\", information_type: \"string!*\", description: \"string\"})\n",
      "- (:Access {type: \"string\", access_type: \"string!*\", description: \"string\"})\n",
      "- (:Audit {name: \"string!*\"})\n",
      "- (:SecurityPractices {name: \"string!*\", description: \"string\"})\n",
      "- (:TrustFoundation {name: \"string!*\", description: \"string\"})\n",
      "- (:SOC2Audit {name: \"string!*\", description: \"string\"})\n",
      "- (:Growth {growth_type: \"string!*\", description: \"string\"})\n",
      "- (:Scaling {scaling_type: \"string!*\", description: \"string\"})\n",
      "- (:NonComplianceAreas {name: \"string!*\", description: \"string\"})\n",
      "- (:ProcessingCapacity {name: \"string!*\", description: \"string\"})\n",
      "- (:ConfidentialInformation {information_type: \"string!*\", description: \"string\"})\n",
      "- (:Choices {name: \"string!*\", description: \"string\"})\n",
      "- (:Controls {name: \"string!*\", description: \"string\"})\n",
      "- (:Platform {name: \"string!*\", description: \"string\"})\n",
      "- (:Infrastructure {name: \"string!*\", description: \"string\"})\n",
      "- (:SOC2 {name: \"string!*\", description: \"string\"})\n",
      "- (:SecurityControls {name: \"string!*\", description: \"string\"})\n",
      "- (:SOC2Requirements {name: \"string!*\", description: \"string\"})\n",
      "- (:Notice {name: \"string!*\", description: \"string\"})\n",
      "- (:Tasks {name: \"string!*\", description: \"string\"})\n",
      "- (:Management {name: \"string!*\", description: \"string\"})\n",
      "- (:EBook {title: \"string!*\"})\n",
      "- (:Customer {name: \"string!*\", description: \"string\"})\n",
      "- (:SecurityKnowledge {knowledge_type: \"string!*\", description: \"string\"})\n",
      "- (:Blog {title: \"string!*\"})\n",
      "- (:SecurityTrends {trend_type: \"string!*\", description: \"string\"})\n",
      "- (:Partner {name: \"string!*\", description: \"string\"})\n",
      "- (:Providers {name: \"string!*\", description: \"string\"})\n",
      "- (:Experiences {experience_type: \"string!*\", description: \"string\"})\n",
      "- (:Startup {name: \"string!*\"})\n",
      "- (:MidMarket {name: \"string!*\"})\n",
      "- (:Operations {name: \"string!*\", description: \"string\"})\n",
      "- (:SecurityPosture {name: \"string!*\", description: \"string\"})\n",
      "- (:Guide {title: \"string!*\"})\n",
      "- (:Certification {name: \"string!*\"})\n",
      "- (:Demo {name: \"string!*\", description: \"string\"})\n",
      "- (:Business {name: \"string!*\", description: \"string\"})\n",
      "- (:ProcessingIntegrity {name: \"string!*\", description: \"string\"})\n",
      "- (:Calculations {name: \"string!*\", description: \"string\"})\n",
      "- (:TSC {name: \"string!*\"})\n",
      "- (:ComplianceAutomation {name: \"string!*\", description: \"string\"})\n",
      "- (:MappingCommonCriteria {name: \"string!*\", description: \"string\"})\n",
      "- (:GapsInSOC2Compliance {name: \"string!*\", description: \"string\"})\n",
      "- (:Experts {name: \"string!*\"})\n",
      "- (:Documents {name: \"string!*\", description: \"string\"})\n",
      "- (:Risk {level: \"string!*\", description: \"string\"})\n",
      "- (:Articles {title: \"string!*\"})\n",
      "- (:Collection {name: \"string!*\", description: \"string\"})\n",
      "- (:SOC2SecurityMonitoringPlatforms {name: \"string!*\", description: \"string\"})\n",
      "- (:Practices {name: \"string!*\", description: \"string\"})\n",
      "- (:NecessaryCriteria {name: \"string!*\", description: \"string\"})\n",
      "- (:Capacity {name: \"string!*\", description: \"string\"})\n",
      "- (:CustomerTrust {name: \"string!*\", description: \"string\"})\n",
      "- (:Businesses {name: \"string!*\"})\n",
      "- (:Standard {name: \"string!*\", description: \"string\"})\n",
      "- (:AutomatedCompliance {name: \"string!*\", description: \"string\"})\n",
      "- (:SOC2AttestationProcess {name: \"string!*\", description: \"string\"})\n",
      "- (:ClientExperiences {name: \"string!*\", description: \"string\"})\n",
      "- (:Resources {resource_type: \"string!*\", description: \"string\"})\n",
      "- (:Analytics {analytics_type: \"string!*\", description: \"string\"})\n",
      "- (:VendorRiskManagement {name: \"string!*\", description: \"string\"})\n",
      "- (:SecurityRequirements {name: \"string!*\", description: \"string\"})\n",
      "- (:Partners {name: \"string!*\", description: \"string\"})\n",
      "\n",
      "Edges:\n",
      "\f- (:Company)-[:PROVIDES {}]->(:Product)\n",
      "- (:Compliance)-[:REQUIRES {}]->(:Criterion)\n",
      "- (:Auditor)-[:PERFORMS {}]->(:Audit)\n",
      "- (:Criterion)-[:FALLS_UNDER {}]->(:Framework)\n",
      "- (:Vanta)-[:MANAGES {}]->(:Trust)\n",
      "- (:Vanta)-[:AUTOMATES {}]->(:Compliance)\n",
      "- (:Organization)-[:UTILIZES {}]->(:Control)\n",
      "- (:Report)-[:HAS {}]->(:Security)\n",
      "- (:Security)-[:PROTECTS {}]->(:Data)\n",
      "- (:Organization)-[:IMPLEMENTS {}]->(:Security)\n",
      "- (:Vanta)-[:OFFERS {}]->(:Integration)\n",
      "- (:Organization)-[:DEMONSTRATES {}]->(:Trust)\n",
      "- (:Organization)-[:NEEDS {}]->(:Access)\n",
      "- (:Auditor)-[:CREATES {}]->(:Report)\n",
      "- (:Organization)-[:SCALES {}]->(:Compliance)\n",
      "- (:Organization)-[:AIMS_FOR {}]->(:Compliance)\n",
      "- (:Vanta)-[:PUBLISHES {}]->(:Document)\n",
      "- (:Vanta)-[:DESIGNS {}]->(:Checklist)\n",
      "- (:Framework)-[:INCLUDES {}]->(:Guideline)\n",
      "- (:Organization)-[:USES {}]->(:Information)\n",
      "- (:Organization)-[:PARTNERS {}]->(:Auditor)\n",
      "- (:Vanta)-[:SYNCS_WITH {}]->(:Integration)\n",
      "- (:VendorRiskManagement)-[:MANAGED_BY {}]->(:Vanta)\n",
      "- (:Product)-[:SUPPORTS {}]->(:Framework)\n",
      "- (:Organization)-[:HANDLES {}]->(:Data)\n",
      "- (:Auditor)-[:ASSESSES {}]->(:SecurityPractices)\n",
      "- (:Vanta)-[:ESTABLISHES {}]->(:TrustFoundation)\n",
      "- (:Checklist)-[:SIMPLIFIES {}]->(:SOC2Audit)\n",
      "- (:Product)-[:ENABLES {}]->(:Growth)\n",
      "- (:Product)-[:FACILITATES {}]->(:Scaling)\n",
      "- (:Product)-[:EMPOWERS {}]->(:Auditors)\n",
      "- (:Product)-[:IDENTIFIES {}]->(:NonComplianceAreas)\n",
      "- (:Organization)-[:MONITORS {}]->(:ProcessingCapacity)\n",
      "- (:Organization)-[:MAINTAINS {}]->(:ConfidentialInformation)\n",
      "- (:Organization)-[:DISPOSES {}]->(:ConfidentialInformation)\n",
      "- (:Organization)-[:COMMUNICATES {}]->(:Choices)\n",
      "- (:Organization)-[:COLLECTS {}]->(:Data)\n",
      "- (:Organization)-[:DELETES {}]->(:Data)\n",
      "- (:Report)-[:ANALYZES {}]->(:Controls)\n",
      "- (:Report)-[:TESTS {}]->(:Controls)\n",
      "- (:Platform)-[:STREAMLINES {}]->(:SOC2)\n",
      "- (:Product)-[:CONNECTS {}]->(:Infrastructure)\n",
      "- (:Product)-[:FINDS {}]->(:Auditor)\n",
      "- (:Platform)-[:COMPLETES {}]->(:SOC2)\n",
      "- (:SecurityControls)-[:ALIGN_WITH {}]->(:SOC2Requirements)\n",
      "- (:Organization)-[:SHARES {}]->(:Report)\n",
      "- (:Entity)-[:UPDATES {}]->(:Notice)\n",
      "- (:Vanta)-[:HAND_OFF {}]->(:Tasks)\n",
      "- (:Platform)-[:UNIFIES {}]->(:Management)\n",
      "- (:Vanta)-[:BUILDS {}]->(:Trust)\n",
      "- (:Vanta)-[:DOWNLOAD {}]->(:EBook)\n",
      "- (:Customer)-[:LEARNS {}]->(:SecurityKnowledge)\n",
      "- (:Blog)-[:EXPLORES {}]->(:SecurityTrends)\n",
      "- (:Partner)-[:DISCOVERS {}]->(:Providers)\n",
      "- (:Partner)-[:ELEVATES {}]->(:Experiences)\n",
      "- (:Startup)-[:GROWS {}]->(:Compliance)\n",
      "- (:MidMarket)-[:EXPANDS {}]->(:Compliance)\n",
      "- (:Framework)-[:APPLIES {}]->(:Operations)\n",
      "- (:SOC2Compliance)-[:DEMONSTRATE {}]->(:SecurityPosture)\n",
      "- (:Guide)-[:GETS {}]->(:Certification)\n",
      "- (:Auditor)-[:REQUEST {}]->(:Demo)\n",
      "- (:Business)-[:COMPLIES_WITH {}]->(:SOC2)\n",
      "- (:SecurityControls)-[:MEET {}]->(:SOC2Requirements)\n",
      "- (:ProcessingIntegrity)-[:ENSURES {}]->(:Calculations)\n",
      "- (:SOC2Compliance)-[:INVOLVES {}]->(:SecurityPosture)\n",
      "- (:SOC2Compliance)-[:EARN {}]->(:CustomerTrust)\n",
      "- (:SecurityControls)-[:ALIGN {}]->(:SecurityRequirements)\n",
      "- (:Organization)-[:PROCESS {}]->(:Analytics)\n",
      "- (:TSC)-[:VALIDATES {}]->(:SecurityPractices)\n",
      "- (:SOC2)-[:APPLY {}]->(:Organization)\n",
      "- (:Vanta)-[:ENABLE {}]->(:ComplianceAutomation)\n",
      "- (:Customer)-[:UNDERSTAND {}]->(:Vanta)\n",
      "- (:Compliance)-[:MAPS {}]->(:MappingCommonCriteria)\n",
      "- (:Vanta)-[:CLOSES {}]->(:GapsInSOC2Compliance)\n",
      "- (:Customer)-[:ENGAGES {}]->(:Experts)\n",
      "- (:Vanta)-[:CENTRALIZES {}]->(:Documents)\n",
      "- (:Vanta)-[:ASSESS {}]->(:Risk)\n",
      "- (:Vanta)-[:READ {}]->(:Articles)\n",
      "- (:Organization)-[:MEETS {}]->(:TSC)\n",
      "- (:Vanta)-[:AUTOMATE {}]->(:Collection)\n",
      "- (:Vanta)-[:EVALUATING {}]->(:SOC2SecurityMonitoringPlatforms)\n",
      "- (:Vanta)-[:STREAMLINING {}]->(:SOC2Compliance)\n",
      "- (:Practices)-[:VERIFIES {}]->(:Audit)\n",
      "- (:Controls)-[:SATISFY {}]->(:NecessaryCriteria)\n",
      "- (:Entity)-[:EVALUATES {}]->(:Capacity)\n",
      "- (:Compliance)-[:EARNS {}]->(:CustomerTrust)\n",
      "- (:Businesses)-[:COMPLIES {}]->(:Standard)\n",
      "- (:Product)-[:AUTOMATED {}]->(:AutomatedCompliance)\n",
      "- (:Checklist)-[:WALKS {}]->(:SOC2AttestationProcess)\n",
      "- (:Vanta)-[:INCREASE {}]->(:ClientExperiences)\n",
      "- (:Vanta)-[:REVOLUTIONIZE {}]->(:Risk)\n",
      "- (:Platform)-[:DEEPENS {}]->(:Security)\n",
      "- (:Partners)-[:ALLOWS {}]->(:BuildBusiness)\n",
      "- (:Resources)-[:EXPLORE {}]->(:SecurityTrends)\n",
      "- (:Vanta)-[:ENHANCES {}]->(:ComplianceAutomation)\n",
      "- (:Vanta)-[:INTEGRATE {}]->(:Management)\n"
     ]
    }
   ],
   "source": [
    "soc2_ontology = create_ontology(soc2_sources, \"soc2_ontology\")\n",
    "print(\"SOC2 Ontology:\", soc2_ontology)"
   ]
  },
  {
   "cell_type": "markdown",
   "metadata": {},
   "source": [
    "## Create knowledge graphs"
   ]
  },
  {
   "cell_type": "code",
   "execution_count": 82,
   "metadata": {},
   "outputs": [],
   "source": [
    "# Function to create a knowledge graph\n",
    "def create_knowledge_graph(ontology, name):\n",
    "    return KnowledgeGraph(\n",
    "        name=name,\n",
    "        model_config=KnowledgeGraphModelConfig.with_model(model),\n",
    "        ontology=ontology,\n",
    "        host=\"127.0.0.1\",\n",
    "        port=6379\n",
    "    )\n"
   ]
  },
  {
   "cell_type": "code",
   "execution_count": null,
   "metadata": {},
   "outputs": [],
   "source": [
    "# Create knowledge graphs for GDPR, NIST, and SOC 2\n",
    "gdpr_kg = create_knowledge_graph(gdpr_ontology, \"gdpr_compliance\")\n",
    "nist_kg = create_knowledge_graph(nist_ontology, \"hipaa_compliance\")\n",
    "soc2_kg = create_knowledge_graph(soc2_ontology, \"soc2_compliance\")"
   ]
  },
  {
   "cell_type": "code",
   "execution_count": null,
   "metadata": {},
   "outputs": [],
   "source": [
    "# Process sources for each knowledge graph\n",
    "gdpr_kg.process_sources(gdpr_sources)"
   ]
  },
  {
   "cell_type": "code",
   "execution_count": null,
   "metadata": {},
   "outputs": [],
   "source": [
    "nist_kg.process_sources(nist_sources)"
   ]
  },
  {
   "cell_type": "code",
   "execution_count": null,
   "metadata": {},
   "outputs": [],
   "source": [
    "soc2_kg.process_sources(soc2_sources)"
   ]
  },
  {
   "cell_type": "markdown",
   "metadata": {},
   "source": [
    "## Create agents"
   ]
  },
  {
   "cell_type": "code",
   "execution_count": 86,
   "metadata": {},
   "outputs": [],
   "source": [
    "# Create agents for GDPR, NIST, and SOC 2 compliance analysis\n",
    "\n",
    "gdpr_agent = KGAgent(\n",
    "    agent_id=\"gdpr_agent\",\n",
    "    kg=gdpr_kg,\n",
    "    introduction=\"I specialize in GDPR compliance analysis for European data protection regulations.\"\n",
    ")\n",
    "\n",
    "nist_agent = KGAgent(\n",
    "    agent_id=\"nist_agent\",\n",
    "    kg=nist_kg,\n",
    "    introduction=\"I specialize in NIST compliance analysis, ensuring adherence to cybersecurity and risk management frameworks.\"\n",
    ")\n",
    "\n",
    "soc2_agent = KGAgent(\n",
    "    agent_id=\"soc2_agent\",\n",
    "    kg=soc2_kg,\n",
    "    introduction=\"I specialize in SOC 2 compliance analysis, focusing on security, availability, processing integrity, confidentiality, and privacy for service organizations.\"\n",
    ")\n",
    "\n",
    "# Create an orchestrator for compliance analysis\n",
    "compliance_orchestrator = Orchestrator(\n",
    "    model=model,\n",
    "    backstory=\"You are a compliance analyst who determines if organizations meet GDPR, NIST, and/or SOC 2 requirements.\"\n",
    ")\n",
    "\n",
    "# Register the agents with the orchestrator\n",
    "compliance_orchestrator.register_agent(gdpr_agent)\n",
    "compliance_orchestrator.register_agent(nist_agent)\n",
    "compliance_orchestrator.register_agent(soc2_agent)"
   ]
  },
  {
   "cell_type": "markdown",
   "metadata": {},
   "source": [
    "## Check compliance based on company information"
   ]
  },
  {
   "cell_type": "code",
   "execution_count": 87,
   "metadata": {},
   "outputs": [],
   "source": [
    "# Function to check compliance based on company information\n",
    "def check_compliance(company_info):\n",
    "    \n",
    "    query = f\"\"\"\n",
    "    COMPANY PROFILE:\n",
    "    {company_info}\n",
    "    \n",
    "     COMPLIANCE ANALYSIS TASKS:\n",
    "    1. Identify the main regulatory standards applicable to the company (e.g., GDPR, NIST, SOC 2).\n",
    "    2. Briefly assess whether the company appears to be in compliance with these regulations based on the available information.\n",
    "    3. Mention any obvious gaps or areas where the company may potentially not meet regulatory requirements.\n",
    "    4. Provide general recommendations on how the company could improve compliance with necessary regulations.\n",
    "    5. Evaluate the company's data handling practices, cross-border data transfers, and security measures, and indicate if these practices align with regulatory expectations.\n",
    "    6. Suggest potential areas of improvement in privacy policies, consent mechanisms, and risk mitigation strategies.\n",
    "    \"\"\"\n",
    "    \n",
    "    runner = compliance_orchestrator.ask(query)\n",
    "    return runner.output\n"
   ]
  },
  {
   "cell_type": "code",
   "execution_count": null,
   "metadata": {},
   "outputs": [],
   "source": [
    "# Load company information\n",
    "company_info = JSONL(\"company_info.jsonl\")"
   ]
  },
  {
   "cell_type": "code",
   "execution_count": 88,
   "metadata": {},
   "outputs": [
    {
     "name": "stdout",
     "output_type": "stream",
     "text": [
      "Based on the provided company profile and compliance analysis tasks, here's a breakdown of the applicable regulatory standards and compliance considerations:\n",
      "\n",
      "1.  **GDPR (General Data Protection Regulation):** According to the GDPR agent, the General Data Protection Directive is for Small and Medium Sized Enterprises. Therefore, GDPR requirements should be considered if the company falls into this category.\n",
      "2.  **NIST (National Institute of Standards and Technology):** The NIST agent indicated that Fortinet and U.S.-based organizations comply with The National Institute of Standards and Technology (NIST). NIST is a body that handles the technology, metrics, and standards used within the technology and science industries. Therefore, NIST compliance should be considered if the company is based in the U.S. or works in the technology or science industries.\n",
      "3.  **SOC 2 (Service Organization Control 2):** The SOC 2 agent identified that the company profile includes information related to businesses that comply with SOC 2, SOC 2 requirements, security measures, platforms that streamline SOC 2, Vanta, checklists, organizations that handle and dispose of data, and risks associated with SOC 2. Therefore, SOC 2 compliance should be considered given all this information.\n",
      "\n",
      "**Summary of Compliance Considerations:**\n",
      "\n",
      "*   **Compliance Assessment:** From the available information, the company profile mentions several aspects related to SOC 2 compliance, such as security measures and platforms that streamline SOC 2. This suggests that the company has taken steps toward SOC 2 compliance. However, a thorough audit would be necessary to confirm full compliance.\n",
      "*   **Gaps and Recommendations:** It is important to evaluate the company's data handling practices, cross-border data transfers, and security measures to identify any gaps. Recommendations to enhance compliance include:\n",
      "    *   Reviewing and updating privacy policies to ensure they meet regulatory requirements.\n",
      "    *   Implementing robust consent mechanisms to ensure users' informed consent for data processing activities.\n",
      "    *   Developing and maintaining a risk mitigation strategy to address potential threats and vulnerabilities.\n",
      "\n",
      "Please note that this analysis is based on the limited information provided in the company profile. A comprehensive compliance review would require a more detailed assessment of the company's policies, procedures, and controls.\n",
      "\n"
     ]
    }
   ],
   "source": [
    "# Run compliance check\n",
    "print(check_compliance(company_info))"
   ]
  }
 ],
 "metadata": {
  "kernelspec": {
   "display_name": "venv",
   "language": "python",
   "name": "python3"
  },
  "language_info": {
   "codemirror_mode": {
    "name": "ipython",
    "version": 3
   },
   "file_extension": ".py",
   "mimetype": "text/x-python",
   "name": "python",
   "nbconvert_exporter": "python",
   "pygments_lexer": "ipython3",
   "version": "3.12.7"
  }
 },
 "nbformat": 4,
 "nbformat_minor": 2
}
